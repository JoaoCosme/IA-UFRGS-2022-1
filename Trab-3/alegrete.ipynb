{
 "cells": [
  {
   "cell_type": "markdown",
   "metadata": {
    "id": "fM1tzPvICydP"
   },
   "source": [
    "**Pressione SHIFT+ENTER para executar a célula**"
   ]
  },
  {
   "cell_type": "markdown",
   "metadata": {
    "id": "EtGzW6k4-epp"
   },
   "source": [
    "# Alegrete\n",
    "\n",
    "Este notebook fornece algumas visualizações para o trabalho de regressão linear. Para conseguir usar, implemente as funções no seu `alegrete.py` e tenha as bibliotecas `numpy` e `matplotlib` instaladas.\n",
    "\n",
    "O notebook usa um conjunto de dados sintetico. Adapte-o para carregar e usar os dados do `alegrete.csv`."
   ]
  },
  {
   "cell_type": "markdown",
   "metadata": {},
   "source": [
    "### Imports das bibliotecas de plot e da solucao implementada"
   ]
  },
  {
   "cell_type": "code",
   "execution_count": 2,
   "metadata": {
    "executionInfo": {
     "elapsed": 633,
     "status": "ok",
     "timestamp": 1631925768986,
     "user": {
      "displayName": "Anderson Tavares",
      "photoUrl": "https://lh3.googleusercontent.com/a-/AOh14GgCwYk7tp3nP6ZaF03vKAzTMQ0Bx5FrmHg11c0E=s64",
      "userId": "08026797557963935348"
     },
     "user_tz": 180
    },
    "id": "k77xaJfA-epq"
   },
   "outputs": [],
   "source": [
    "%matplotlib inline\n",
    "from IPython.display import HTML\n",
    "import numpy as np\n",
    "import matplotlib.pyplot as plt\n",
    "import matplotlib.animation as animation\n",
    "\n",
    "import alegrete"
   ]
  },
  {
   "cell_type": "markdown",
   "metadata": {},
   "source": [
    "### Visualizacao dos dados"
   ]
  },
  {
   "cell_type": "code",
   "execution_count": 6,
   "metadata": {
    "colab": {
     "base_uri": "https://localhost:8080/",
     "height": 406
    },
    "executionInfo": {
     "elapsed": 19,
     "status": "ok",
     "timestamp": 1631925771411,
     "user": {
      "displayName": "Anderson Tavares",
      "photoUrl": "https://lh3.googleusercontent.com/a-/AOh14GgCwYk7tp3nP6ZaF03vKAzTMQ0Bx5FrmHg11c0E=s64",
      "userId": "08026797557963935348"
     },
     "user_tz": 180
    },
    "id": "E9HoBdK3-epu",
    "outputId": "198a4259-e153-4da2-e57b-3dba321b972c"
   },
   "outputs": [
    {
     "data": {
      "image/png": "[encoded data removed]",
      "text/plain": [
       "<Figure size 600x200 with 1 Axes>"
      ]
     },
     "metadata": {},
     "output_type": "display_data"
    }
   ],
   "source": [
    "# dataset do Quiz de Otimizacao Continua -- troque para carregar o alegrete.csv\n",
    "quiz_data = np.array([\n",
    "    [1, 3],\n",
    "    [2, 4],\n",
    "    [3, 4],\n",
    "    [4, 2]\n",
    "])\n",
    "\n",
    "quiz_data = np.loadtxt(\"alegrete.csv\",dtype=float,delimiter=',')\n",
    "\n",
    "#Gráfico dos dados\n",
    "plt.figure(figsize=(6, 2))\n",
    "plt.scatter(quiz_data[:,0], quiz_data[:,1])\n",
    "plt.xlabel('x')\n",
    "plt.ylabel('y')\n",
    "plt.title('Dados do quiz de otimizacao continua')\n",
    "plt.show()"
   ]
  },
  {
   "cell_type": "markdown",
   "metadata": {
    "id": "wnmqepye-ep_"
   },
   "source": [
    "### Execucao da regressao linear e calculo do EQM por epoca/iteracao"
   ]
  },
  {
   "cell_type": "code",
   "execution_count": null,
   "metadata": {
    "colab": {
     "base_uri": "https://localhost:8080/",
     "height": 404
    },
    "executionInfo": {
     "elapsed": 312,
     "status": "ok",
     "timestamp": 1631925777760,
     "user": {
      "displayName": "Anderson Tavares",
      "photoUrl": "https://lh3.googleusercontent.com/a-/AOh14GgCwYk7tp3nP6ZaF03vKAzTMQ0Bx5FrmHg11c0E=s64",
      "userId": "08026797557963935348"
     },
     "user_tz": 180
    },
    "id": "x1VREIE7-eqA",
    "outputId": "f50296d8-a051-4adb-9625-71a735de31ad"
   },
   "outputs": [],
   "source": [
    "theta_0s, theta_1s = alegrete.fit(\n",
    "    quiz_data, theta_0=0, theta_1=0, \n",
    "    alpha=0.1, num_iterations=100\n",
    ")\n",
    "\n",
    "# valores finais de theta0 e theta1\n",
    "final_th0, final_th1 = theta_0s[-1], theta_1s[-1]\n",
    "\n",
    "mse_list = [alegrete.compute_mse(th0, th1, quiz_data) for th0, th1 in zip(theta_0s, theta_1s)]\n",
    "print(f\"EQM final: {mse_list[-1]}\")\n",
    "\n",
    "\n",
    "plt.plot(mse_list)\n",
    "plt.xlabel('Epoca/iteracao')\n",
    "plt.ylabel('EQM')\n",
    "plt.show()"
   ]
  },
  {
   "cell_type": "markdown",
   "metadata": {
    "id": "5v-y-qI3-ep7"
   },
   "source": [
    "### Plot da curva final"
   ]
  },
  {
   "cell_type": "code",
   "execution_count": null,
   "metadata": {
    "colab": {
     "base_uri": "https://localhost:8080/"
    },
    "executionInfo": {
     "elapsed": 12,
     "status": "ok",
     "timestamp": 1631925776074,
     "user": {
      "displayName": "Anderson Tavares",
      "photoUrl": "https://lh3.googleusercontent.com/a-/AOh14GgCwYk7tp3nP6ZaF03vKAzTMQ0Bx5FrmHg11c0E=s64",
      "userId": "08026797557963935348"
     },
     "user_tz": 180
    },
    "id": "WV6KIdPq-ep7",
    "outputId": "4bd34c8f-494f-45e0-97fe-159098868226"
   },
   "outputs": [],
   "source": [
    "theta_0s, theta_1s = alegrete.fit(\n",
    "    quiz_data, theta_0=0, theta_1=0, \n",
    "    alpha=0.1, num_iterations=100\n",
    ")\n",
    "\n",
    "# valores finais de theta0 e theta1\n",
    "final_th0, final_th1 = theta_0s[-1], theta_1s[-1]\n",
    "\n",
    "#Imprimir parâmetros otimizados\n",
    "print (f'Curva encontrada: {final_th1}*x + {final_th0}')\n",
    "\n",
    "#plota os dados\n",
    "plt.figure(figsize=(4, 2))\n",
    "plt.scatter(quiz_data[:,0], quiz_data[:,1])\n",
    "\n",
    "# plota a curva de ajuste\n",
    "pred = final_th1*quiz_data[:,0] + final_th0\n",
    "plt.plot(quiz_data[:,0], pred, c='r')\n",
    "plt.show()\n",
    "\n",
    "\n"
   ]
  },
  {
   "cell_type": "markdown",
   "metadata": {
    "id": "XeXdBWc-Cic-"
   },
   "source": [
    "### Progresso da descida do gradiente com o número de iterações\n",
    "\n",
    "Execute a celula e use os controles abaixo do grafico para visualizar o progresso do seu ajuste\n",
    "\n",
    "Pode aparecer um grafico \"extra\" abaixo da animacao, apenas ignore."
   ]
  },
  {
   "cell_type": "code",
   "execution_count": null,
   "metadata": {
    "colab": {
     "base_uri": "https://localhost:8080/",
     "height": 892
    },
    "executionInfo": {
     "elapsed": 12319,
     "status": "ok",
     "timestamp": 1631925800823,
     "user": {
      "displayName": "Anderson Tavares",
      "photoUrl": "https://lh3.googleusercontent.com/a-/AOh14GgCwYk7tp3nP6ZaF03vKAzTMQ0Bx5FrmHg11c0E=s64",
      "userId": "08026797557963935348"
     },
     "user_tz": 180
    },
    "id": "pHGbi8nY-eqI",
    "outputId": "daa1bdeb-84ac-4e41-f71a-59b3e12e3090"
   },
   "outputs": [],
   "source": [
    "fig = plt.figure(figsize=(4, 2))\n",
    "ax = fig.add_subplot(111)\n",
    "\n",
    "# conjunto de dados\n",
    "ax.scatter(quiz_data[:,0], quiz_data[:,1])\n",
    "\n",
    "# linha com os valores iniciais dos parametros\n",
    "pred = theta_1s[0]*quiz_data[:,0] + theta_0s[0]\n",
    "line, = ax.plot(quiz_data[:,0], pred, '-',c='r')\n",
    "\n",
    "# funcao que atualiza a linha a cada passo\n",
    "def animate(i):\n",
    "    pred = theta_1s[i] * quiz_data[:,0] + theta_0s[i]\n",
    "    line.set_ydata(pred)\n",
    "    return line,\n",
    "\n",
    "# mude interval para trocar a velocidade da animacao\n",
    "ani = animation.FuncAnimation(fig, animate, frames=len(theta_0s), interval=20, save_count=50)\n",
    "HTML(ani.to_jshtml())"
   ]
  }
 ],
 "metadata": {
  "interpreter": {
   "hash": "916dbcbb3f70747c44a77c7bcd40155683ae19c65e1c03b4aa3499c5328201f1"
  },
  "kernelspec": {
   "display_name": "Python 3.10.4 64-bit",
   "language": "python",
   "name": "python3"
  },
  "language_info": {
   "codemirror_mode": {
    "name": "ipython",
    "version": 3
   },
   "file_extension": ".py",
   "mimetype": "text/x-python",
   "name": "python",
   "nbconvert_exporter": "python",
   "pygments_lexer": "ipython3",
   "version": "3.10.4"
  }
 },
 "nbformat": 4,
 "nbformat_minor": 1
}
