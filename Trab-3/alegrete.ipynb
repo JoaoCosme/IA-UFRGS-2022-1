{
 "cells": [
  {
   "cell_type": "markdown",
   "metadata": {
    "id": "fM1tzPvICydP"
   },
   "source": [
    "**Pressione SHIFT+ENTER para executar a célula**"
   ]
  },
  {
   "cell_type": "markdown",
   "metadata": {
    "id": "EtGzW6k4-epp"
   },
   "source": [
    "# Alegrete\n",
    "\n",
    "Este notebook fornece algumas visualizações para o trabalho de regressão linear. Para conseguir usar, implemente as funções no seu `alegrete.py` e tenha as bibliotecas `numpy` e `matplotlib` instaladas.\n",
    "\n",
    "O notebook usa um conjunto de dados sintetico. Adapte-o para carregar e usar os dados do `alegrete.csv`."
   ]
  },
  {
   "cell_type": "markdown",
   "metadata": {},
   "source": [
    "### Imports das bibliotecas de plot e da solucao implementada"
   ]
  },
  {
   "cell_type": "code",
   "execution_count": 2,
   "metadata": {
    "executionInfo": {
     "elapsed": 633,
     "status": "ok",
     "timestamp": 1631925768986,
     "user": {
      "displayName": "Anderson Tavares",
      "photoUrl": "https://lh3.googleusercontent.com/a-/AOh14GgCwYk7tp3nP6ZaF03vKAzTMQ0Bx5FrmHg11c0E=s64",
      "userId": "08026797557963935348"
     },
     "user_tz": 180
    },
    "id": "k77xaJfA-epq"
   },
   "outputs": [],
   "source": [
    "%matplotlib inline\n",
    "from IPython.display import HTML\n",
    "import numpy as np\n",
    "import matplotlib.pyplot as plt\n",
    "import matplotlib.animation as animation\n",
    "\n",
    "import alegrete"
   ]
  },
  {
   "cell_type": "markdown",
   "metadata": {},
   "source": [
    "### Visualizacao dos dados"
   ]
  },
  {
   "cell_type": "code",
   "execution_count": 5,
   "metadata": {
    "colab": {
     "base_uri": "https://localhost:8080/",
     "height": 406
    },
    "executionInfo": {
     "elapsed": 19,
     "status": "ok",
     "timestamp": 1631925771411,
     "user": {
      "displayName": "Anderson Tavares",
      "photoUrl": "https://lh3.googleusercontent.com/a-/AOh14GgCwYk7tp3nP6ZaF03vKAzTMQ0Bx5FrmHg11c0E=s64",
      "userId": "08026797557963935348"
     },
     "user_tz": 180
    },
    "id": "E9HoBdK3-epu",
    "outputId": "198a4259-e153-4da2-e57b-3dba321b972c"
   },
   "outputs": [
    {
     "ename": "ValueError",
     "evalue": "could not convert string '6.1101,17.592' to float64 at row 0, column 1.",
     "output_type": "error",
     "traceback": [
      "\u001b[0;31m---------------------------------------------------------------------------\u001b[0m",
      "\u001b[0;31mValueError\u001b[0m                                Traceback (most recent call last)",
      "\u001b[1;32m/home/joaocosme/Estudos/UFRGS/Etapa5/IA-UFRGS-2022-1/Trab-3/alegrete.ipynb Cell 6'\u001b[0m in \u001b[0;36m<cell line: 9>\u001b[0;34m()\u001b[0m\n\u001b[1;32m      <a href='vscode-notebook-cell:/home/joaocosme/Estudos/UFRGS/Etapa5/IA-UFRGS-2022-1/Trab-3/alegrete.ipynb#ch0000005?line=0'>1</a>\u001b[0m \u001b[39m# dataset do Quiz de Otimizacao Continua -- troque para carregar o alegrete.csv\u001b[39;00m\n\u001b[1;32m      <a href='vscode-notebook-cell:/home/joaocosme/Estudos/UFRGS/Etapa5/IA-UFRGS-2022-1/Trab-3/alegrete.ipynb#ch0000005?line=1'>2</a>\u001b[0m quiz_data \u001b[39m=\u001b[39m np\u001b[39m.\u001b[39marray([\n\u001b[1;32m      <a href='vscode-notebook-cell:/home/joaocosme/Estudos/UFRGS/Etapa5/IA-UFRGS-2022-1/Trab-3/alegrete.ipynb#ch0000005?line=2'>3</a>\u001b[0m     [\u001b[39m1\u001b[39m, \u001b[39m3\u001b[39m],\n\u001b[1;32m      <a href='vscode-notebook-cell:/home/joaocosme/Estudos/UFRGS/Etapa5/IA-UFRGS-2022-1/Trab-3/alegrete.ipynb#ch0000005?line=3'>4</a>\u001b[0m     [\u001b[39m2\u001b[39m, \u001b[39m4\u001b[39m],\n\u001b[1;32m      <a href='vscode-notebook-cell:/home/joaocosme/Estudos/UFRGS/Etapa5/IA-UFRGS-2022-1/Trab-3/alegrete.ipynb#ch0000005?line=4'>5</a>\u001b[0m     [\u001b[39m3\u001b[39m, \u001b[39m4\u001b[39m],\n\u001b[1;32m      <a href='vscode-notebook-cell:/home/joaocosme/Estudos/UFRGS/Etapa5/IA-UFRGS-2022-1/Trab-3/alegrete.ipynb#ch0000005?line=5'>6</a>\u001b[0m     [\u001b[39m4\u001b[39m, \u001b[39m2\u001b[39m]\n\u001b[1;32m      <a href='vscode-notebook-cell:/home/joaocosme/Estudos/UFRGS/Etapa5/IA-UFRGS-2022-1/Trab-3/alegrete.ipynb#ch0000005?line=6'>7</a>\u001b[0m ])\n\u001b[0;32m----> <a href='vscode-notebook-cell:/home/joaocosme/Estudos/UFRGS/Etapa5/IA-UFRGS-2022-1/Trab-3/alegrete.ipynb#ch0000005?line=8'>9</a>\u001b[0m quiz_data \u001b[39m=\u001b[39m np\u001b[39m.\u001b[39;49mloadtxt(\u001b[39m\"\u001b[39;49m\u001b[39malegrete.csv\u001b[39;49m\u001b[39m\"\u001b[39;49m,dtype\u001b[39m=\u001b[39;49m\u001b[39mfloat\u001b[39;49m)\n\u001b[1;32m     <a href='vscode-notebook-cell:/home/joaocosme/Estudos/UFRGS/Etapa5/IA-UFRGS-2022-1/Trab-3/alegrete.ipynb#ch0000005?line=10'>11</a>\u001b[0m \u001b[39m#Gráfico dos dados\u001b[39;00m\n\u001b[1;32m     <a href='vscode-notebook-cell:/home/joaocosme/Estudos/UFRGS/Etapa5/IA-UFRGS-2022-1/Trab-3/alegrete.ipynb#ch0000005?line=11'>12</a>\u001b[0m plt\u001b[39m.\u001b[39mfigure(figsize\u001b[39m=\u001b[39m(\u001b[39m6\u001b[39m, \u001b[39m2\u001b[39m))\n",
      "File \u001b[0;32m~/.local/lib/python3.10/site-packages/numpy/lib/npyio.py:1313\u001b[0m, in \u001b[0;36mloadtxt\u001b[0;34m(fname, dtype, comments, delimiter, converters, skiprows, usecols, unpack, ndmin, encoding, max_rows, quotechar, like)\u001b[0m\n\u001b[1;32m   <a href='file:///home/joaocosme/.local/lib/python3.10/site-packages/numpy/lib/npyio.py?line=1309'>1310</a>\u001b[0m \u001b[39mif\u001b[39;00m \u001b[39misinstance\u001b[39m(delimiter, \u001b[39mbytes\u001b[39m):\n\u001b[1;32m   <a href='file:///home/joaocosme/.local/lib/python3.10/site-packages/numpy/lib/npyio.py?line=1310'>1311</a>\u001b[0m     delimiter \u001b[39m=\u001b[39m delimiter\u001b[39m.\u001b[39mdecode(\u001b[39m'\u001b[39m\u001b[39mlatin1\u001b[39m\u001b[39m'\u001b[39m)\n\u001b[0;32m-> <a href='file:///home/joaocosme/.local/lib/python3.10/site-packages/numpy/lib/npyio.py?line=1312'>1313</a>\u001b[0m arr \u001b[39m=\u001b[39m _read(fname, dtype\u001b[39m=\u001b[39;49mdtype, comment\u001b[39m=\u001b[39;49mcomment, delimiter\u001b[39m=\u001b[39;49mdelimiter,\n\u001b[1;32m   <a href='file:///home/joaocosme/.local/lib/python3.10/site-packages/numpy/lib/npyio.py?line=1313'>1314</a>\u001b[0m             converters\u001b[39m=\u001b[39;49mconverters, skiplines\u001b[39m=\u001b[39;49mskiprows, usecols\u001b[39m=\u001b[39;49musecols,\n\u001b[1;32m   <a href='file:///home/joaocosme/.local/lib/python3.10/site-packages/numpy/lib/npyio.py?line=1314'>1315</a>\u001b[0m             unpack\u001b[39m=\u001b[39;49munpack, ndmin\u001b[39m=\u001b[39;49mndmin, encoding\u001b[39m=\u001b[39;49mencoding,\n\u001b[1;32m   <a href='file:///home/joaocosme/.local/lib/python3.10/site-packages/numpy/lib/npyio.py?line=1315'>1316</a>\u001b[0m             max_rows\u001b[39m=\u001b[39;49mmax_rows, quote\u001b[39m=\u001b[39;49mquotechar)\n\u001b[1;32m   <a href='file:///home/joaocosme/.local/lib/python3.10/site-packages/numpy/lib/npyio.py?line=1317'>1318</a>\u001b[0m \u001b[39mreturn\u001b[39;00m arr\n",
      "File \u001b[0;32m~/.local/lib/python3.10/site-packages/numpy/lib/npyio.py:979\u001b[0m, in \u001b[0;36m_read\u001b[0;34m(fname, delimiter, comment, quote, imaginary_unit, usecols, skiplines, max_rows, converters, ndmin, unpack, dtype, encoding)\u001b[0m\n\u001b[1;32m    <a href='file:///home/joaocosme/.local/lib/python3.10/site-packages/numpy/lib/npyio.py?line=975'>976</a>\u001b[0m     data \u001b[39m=\u001b[39m _preprocess_comments(data, comments, encoding)\n\u001b[1;32m    <a href='file:///home/joaocosme/.local/lib/python3.10/site-packages/numpy/lib/npyio.py?line=977'>978</a>\u001b[0m \u001b[39mif\u001b[39;00m read_dtype_via_object_chunks \u001b[39mis\u001b[39;00m \u001b[39mNone\u001b[39;00m:\n\u001b[0;32m--> <a href='file:///home/joaocosme/.local/lib/python3.10/site-packages/numpy/lib/npyio.py?line=978'>979</a>\u001b[0m     arr \u001b[39m=\u001b[39m _load_from_filelike(\n\u001b[1;32m    <a href='file:///home/joaocosme/.local/lib/python3.10/site-packages/numpy/lib/npyio.py?line=979'>980</a>\u001b[0m         data, delimiter\u001b[39m=\u001b[39;49mdelimiter, comment\u001b[39m=\u001b[39;49mcomment, quote\u001b[39m=\u001b[39;49mquote,\n\u001b[1;32m    <a href='file:///home/joaocosme/.local/lib/python3.10/site-packages/numpy/lib/npyio.py?line=980'>981</a>\u001b[0m         imaginary_unit\u001b[39m=\u001b[39;49mimaginary_unit,\n\u001b[1;32m    <a href='file:///home/joaocosme/.local/lib/python3.10/site-packages/numpy/lib/npyio.py?line=981'>982</a>\u001b[0m         usecols\u001b[39m=\u001b[39;49musecols, skiplines\u001b[39m=\u001b[39;49mskiplines, max_rows\u001b[39m=\u001b[39;49mmax_rows,\n\u001b[1;32m    <a href='file:///home/joaocosme/.local/lib/python3.10/site-packages/numpy/lib/npyio.py?line=982'>983</a>\u001b[0m         converters\u001b[39m=\u001b[39;49mconverters, dtype\u001b[39m=\u001b[39;49mdtype,\n\u001b[1;32m    <a href='file:///home/joaocosme/.local/lib/python3.10/site-packages/numpy/lib/npyio.py?line=983'>984</a>\u001b[0m         encoding\u001b[39m=\u001b[39;49mencoding, filelike\u001b[39m=\u001b[39;49mfilelike,\n\u001b[1;32m    <a href='file:///home/joaocosme/.local/lib/python3.10/site-packages/numpy/lib/npyio.py?line=984'>985</a>\u001b[0m         byte_converters\u001b[39m=\u001b[39;49mbyte_converters)\n\u001b[1;32m    <a href='file:///home/joaocosme/.local/lib/python3.10/site-packages/numpy/lib/npyio.py?line=986'>987</a>\u001b[0m \u001b[39melse\u001b[39;00m:\n\u001b[1;32m    <a href='file:///home/joaocosme/.local/lib/python3.10/site-packages/numpy/lib/npyio.py?line=987'>988</a>\u001b[0m     \u001b[39m# This branch reads the file into chunks of object arrays and then\u001b[39;00m\n\u001b[1;32m    <a href='file:///home/joaocosme/.local/lib/python3.10/site-packages/numpy/lib/npyio.py?line=988'>989</a>\u001b[0m     \u001b[39m# casts them to the desired actual dtype.  This ensures correct\u001b[39;00m\n\u001b[1;32m    <a href='file:///home/joaocosme/.local/lib/python3.10/site-packages/numpy/lib/npyio.py?line=989'>990</a>\u001b[0m     \u001b[39m# string-length and datetime-unit discovery (like `arr.astype()`).\u001b[39;00m\n\u001b[1;32m    <a href='file:///home/joaocosme/.local/lib/python3.10/site-packages/numpy/lib/npyio.py?line=990'>991</a>\u001b[0m     \u001b[39m# Due to chunking, certain error reports are less clear, currently.\u001b[39;00m\n\u001b[1;32m    <a href='file:///home/joaocosme/.local/lib/python3.10/site-packages/numpy/lib/npyio.py?line=991'>992</a>\u001b[0m     \u001b[39mif\u001b[39;00m filelike:\n",
      "\u001b[0;31mValueError\u001b[0m: could not convert string '6.1101,17.592' to float64 at row 0, column 1."
     ]
    }
   ],
   "source": [
    "# dataset do Quiz de Otimizacao Continua -- troque para carregar o alegrete.csv\n",
    "quiz_data = np.array([\n",
    "    [1, 3],\n",
    "    [2, 4],\n",
    "    [3, 4],\n",
    "    [4, 2]\n",
    "])\n",
    "\n",
    "quiz_data = np.loadtxt(\"alegrete.csv\",dtype=float,delimiter=',')\n",
    "\n",
    "#Gráfico dos dados\n",
    "plt.figure(figsize=(6, 2))\n",
    "plt.scatter(quiz_data[:,0], quiz_data[:,1])\n",
    "plt.xlabel('x')\n",
    "plt.ylabel('y')\n",
    "plt.title('Dados do quiz de otimizacao continua')\n",
    "plt.show()"
   ]
  },
  {
   "cell_type": "markdown",
   "metadata": {
    "id": "wnmqepye-ep_"
   },
   "source": [
    "### Execucao da regressao linear e calculo do EQM por epoca/iteracao"
   ]
  },
  {
   "cell_type": "code",
   "execution_count": null,
   "metadata": {
    "colab": {
     "base_uri": "https://localhost:8080/",
     "height": 404
    },
    "executionInfo": {
     "elapsed": 312,
     "status": "ok",
     "timestamp": 1631925777760,
     "user": {
      "displayName": "Anderson Tavares",
      "photoUrl": "https://lh3.googleusercontent.com/a-/AOh14GgCwYk7tp3nP6ZaF03vKAzTMQ0Bx5FrmHg11c0E=s64",
      "userId": "08026797557963935348"
     },
     "user_tz": 180
    },
    "id": "x1VREIE7-eqA",
    "outputId": "f50296d8-a051-4adb-9625-71a735de31ad"
   },
   "outputs": [],
   "source": [
    "theta_0s, theta_1s = alegrete.fit(\n",
    "    quiz_data, theta_0=0, theta_1=0, \n",
    "    alpha=0.1, num_iterations=100\n",
    ")\n",
    "\n",
    "# valores finais de theta0 e theta1\n",
    "final_th0, final_th1 = theta_0s[-1], theta_1s[-1]\n",
    "\n",
    "mse_list = [alegrete.compute_mse(th0, th1, quiz_data) for th0, th1 in zip(theta_0s, theta_1s)]\n",
    "print(f\"EQM final: {mse_list[-1]}\")\n",
    "\n",
    "\n",
    "plt.plot(mse_list)\n",
    "plt.xlabel('Epoca/iteracao')\n",
    "plt.ylabel('EQM')\n",
    "plt.show()"
   ]
  },
  {
   "cell_type": "markdown",
   "metadata": {
    "id": "5v-y-qI3-ep7"
   },
   "source": [
    "### Plot da curva final"
   ]
  },
  {
   "cell_type": "code",
   "execution_count": null,
   "metadata": {
    "colab": {
     "base_uri": "https://localhost:8080/"
    },
    "executionInfo": {
     "elapsed": 12,
     "status": "ok",
     "timestamp": 1631925776074,
     "user": {
      "displayName": "Anderson Tavares",
      "photoUrl": "https://lh3.googleusercontent.com/a-/AOh14GgCwYk7tp3nP6ZaF03vKAzTMQ0Bx5FrmHg11c0E=s64",
      "userId": "08026797557963935348"
     },
     "user_tz": 180
    },
    "id": "WV6KIdPq-ep7",
    "outputId": "4bd34c8f-494f-45e0-97fe-159098868226"
   },
   "outputs": [],
   "source": [
    "theta_0s, theta_1s = alegrete.fit(\n",
    "    quiz_data, theta_0=0, theta_1=0, \n",
    "    alpha=0.1, num_iterations=100\n",
    ")\n",
    "\n",
    "# valores finais de theta0 e theta1\n",
    "final_th0, final_th1 = theta_0s[-1], theta_1s[-1]\n",
    "\n",
    "#Imprimir parâmetros otimizados\n",
    "print (f'Curva encontrada: {final_th1}*x + {final_th0}')\n",
    "\n",
    "#plota os dados\n",
    "plt.figure(figsize=(4, 2))\n",
    "plt.scatter(quiz_data[:,0], quiz_data[:,1])\n",
    "\n",
    "# plota a curva de ajuste\n",
    "pred = final_th1*quiz_data[:,0] + final_th0\n",
    "plt.plot(quiz_data[:,0], pred, c='r')\n",
    "plt.show()\n",
    "\n",
    "\n"
   ]
  },
  {
   "cell_type": "markdown",
   "metadata": {
    "id": "XeXdBWc-Cic-"
   },
   "source": [
    "### Progresso da descida do gradiente com o número de iterações\n",
    "\n",
    "Execute a celula e use os controles abaixo do grafico para visualizar o progresso do seu ajuste\n",
    "\n",
    "Pode aparecer um grafico \"extra\" abaixo da animacao, apenas ignore."
   ]
  },
  {
   "cell_type": "code",
   "execution_count": null,
   "metadata": {
    "colab": {
     "base_uri": "https://localhost:8080/",
     "height": 892
    },
    "executionInfo": {
     "elapsed": 12319,
     "status": "ok",
     "timestamp": 1631925800823,
     "user": {
      "displayName": "Anderson Tavares",
      "photoUrl": "https://lh3.googleusercontent.com/a-/AOh14GgCwYk7tp3nP6ZaF03vKAzTMQ0Bx5FrmHg11c0E=s64",
      "userId": "08026797557963935348"
     },
     "user_tz": 180
    },
    "id": "pHGbi8nY-eqI",
    "outputId": "daa1bdeb-84ac-4e41-f71a-59b3e12e3090"
   },
   "outputs": [],
   "source": [
    "fig = plt.figure(figsize=(4, 2))\n",
    "ax = fig.add_subplot(111)\n",
    "\n",
    "# conjunto de dados\n",
    "ax.scatter(quiz_data[:,0], quiz_data[:,1])\n",
    "\n",
    "# linha com os valores iniciais dos parametros\n",
    "pred = theta_1s[0]*quiz_data[:,0] + theta_0s[0]\n",
    "line, = ax.plot(quiz_data[:,0], pred, '-',c='r')\n",
    "\n",
    "# funcao que atualiza a linha a cada passo\n",
    "def animate(i):\n",
    "    pred = theta_1s[i] * quiz_data[:,0] + theta_0s[i]\n",
    "    line.set_ydata(pred)\n",
    "    return line,\n",
    "\n",
    "# mude interval para trocar a velocidade da animacao\n",
    "ani = animation.FuncAnimation(fig, animate, frames=len(theta_0s), interval=20, save_count=50)\n",
    "HTML(ani.to_jshtml())"
   ]
  }
 ],
 "metadata": {
  "interpreter": {
   "hash": "916dbcbb3f70747c44a77c7bcd40155683ae19c65e1c03b4aa3499c5328201f1"
  },
  "kernelspec": {
   "display_name": "Python 3.10.4 64-bit",
   "language": "python",
   "name": "python3"
  },
  "language_info": {
   "codemirror_mode": {
    "name": "ipython",
    "version": 3
   },
   "file_extension": ".py",
   "mimetype": "text/x-python",
   "name": "python",
   "nbconvert_exporter": "python",
   "pygments_lexer": "ipython3",
   "version": "3.10.4"
  }
 },
 "nbformat": 4,
 "nbformat_minor": 1
}
